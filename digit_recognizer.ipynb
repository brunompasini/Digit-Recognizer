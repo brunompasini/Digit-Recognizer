{
  "nbformat": 4,
  "nbformat_minor": 0,
  "metadata": {
    "colab": {
      "name": "digit-recognizer.ipynb",
      "provenance": [],
      "collapsed_sections": [],
      "toc_visible": true,
      "authorship_tag": "ABX9TyPyX+vYiqrLtpTYO5w1uhdt",
      "include_colab_link": true
    },
    "kernelspec": {
      "name": "python3",
      "display_name": "Python 3"
    },
    "accelerator": "GPU"
  },
  "cells": [
    {
      "cell_type": "markdown",
      "metadata": {
        "id": "view-in-github",
        "colab_type": "text"
      },
      "source": [
        "<a href=\"https://colab.research.google.com/github/brunompasini/Digit-Recognizer/blob/master/digit_recognizer.ipynb\" target=\"_parent\"><img src=\"https://colab.research.google.com/assets/colab-badge.svg\" alt=\"Open In Colab\"/></a>"
      ]
    },
    {
      "cell_type": "markdown",
      "metadata": {
        "id": "jgX4m0qhKHgw"
      },
      "source": [
        "#### Notebook by Bruno Pasini\n",
        "\n",
        "github.com/brunompasini"
      ]
    },
    {
      "cell_type": "code",
      "metadata": {
        "id": "VllBgWuoKCOI",
        "colab": {
          "resources": {
            "http://localhost:8080/nbextensions/google.colab/files.js": {
              "data": "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",
              "ok": true,
              "headers": [
                [
                  "content-type",
                  "application/javascript"
                ]
              ],
              "status": 200,
              "status_text": ""
            }
          },
          "base_uri": "https://localhost:8080/",
          "height": 39
        },
        "outputId": "eec9d4d8-818c-45cd-84a0-dde968150a15"
      },
      "source": [
        "from google.colab import files\n",
        "uploaded = files.upload()"
      ],
      "execution_count": 13,
      "outputs": [
        {
          "output_type": "display_data",
          "data": {
            "text/html": [
              "\n",
              "     <input type=\"file\" id=\"files-91b3cbc6-600d-4997-a3dd-713367c6dc72\" name=\"files[]\" multiple disabled\n",
              "        style=\"border:none\" />\n",
              "     <output id=\"result-91b3cbc6-600d-4997-a3dd-713367c6dc72\">\n",
              "      Upload widget is only available when the cell has been executed in the\n",
              "      current browser session. Please rerun this cell to enable.\n",
              "      </output>\n",
              "      <script src=\"/nbextensions/google.colab/files.js\"></script> "
            ],
            "text/plain": [
              "<IPython.core.display.HTML object>"
            ]
          },
          "metadata": {
            "tags": []
          }
        }
      ]
    },
    {
      "cell_type": "markdown",
      "metadata": {
        "id": "xwo5UvxyL6j5"
      },
      "source": [
        "## Imports"
      ]
    },
    {
      "cell_type": "code",
      "metadata": {
        "id": "wnH7UVXmly4J"
      },
      "source": [
        "import numpy as np\n",
        "import matplotlib.pyplot as plt\n",
        "%matplotlib inline\n",
        "import tensorflow as tf\n",
        "import keras\n",
        "import pandas as pd\n",
        "from keras.utils.np_utils import to_categorical\n",
        "from keras.optimizers import RMSprop"
      ],
      "execution_count": 14,
      "outputs": []
    },
    {
      "cell_type": "markdown",
      "metadata": {
        "id": "65VJ8O0TMEmV"
      },
      "source": [
        "## Reading Data"
      ]
    },
    {
      "cell_type": "code",
      "metadata": {
        "id": "tdOidn-amEEk"
      },
      "source": [
        "train = pd.read_csv('train.csv')\n",
        "test = pd.read_csv('test.csv')\n",
        "train.head()\n",
        "x_train = train.drop(['label'], axis=1)\n",
        "y_train = train['label']"
      ],
      "execution_count": 15,
      "outputs": []
    },
    {
      "cell_type": "markdown",
      "metadata": {
        "id": "gt7WK7s0MI1f"
      },
      "source": [
        "## Normalizing and Reshaping"
      ]
    },
    {
      "cell_type": "code",
      "metadata": {
        "id": "2pr0ossZm3Au"
      },
      "source": [
        "x_train = x_train/255.0\n",
        "test = test/255.0"
      ],
      "execution_count": 16,
      "outputs": []
    },
    {
      "cell_type": "code",
      "metadata": {
        "id": "2O4dOIsmnkPt",
        "colab": {
          "base_uri": "https://localhost:8080/"
        },
        "outputId": "5a5be963-5b02-4c81-9595-26a2579f517d"
      },
      "source": [
        "x_train.shape\n",
        "# images are 28x28 but are 784 px in line\n",
        "# and another dimension bc they are in grayscale\n",
        "\n",
        "x_train = x_train.values.reshape(-1,28,28,1)\n",
        "test = test.values.reshape(-1,28,28,1)\n",
        "\n",
        "x_train.shape"
      ],
      "execution_count": 17,
      "outputs": [
        {
          "output_type": "execute_result",
          "data": {
            "text/plain": [
              "(42000, 28, 28, 1)"
            ]
          },
          "metadata": {
            "tags": []
          },
          "execution_count": 17
        }
      ]
    },
    {
      "cell_type": "markdown",
      "metadata": {
        "id": "ICvtcVbHUALC"
      },
      "source": [
        "## Callbacks class\n",
        "\n"
      ]
    },
    {
      "cell_type": "code",
      "metadata": {
        "id": "jlm_NRuYT9nA"
      },
      "source": [
        "class myCallback(keras.callbacks.Callback):\n",
        "  def on_epoch_end(self,epock,logs={}):\n",
        "    if (logs.get('accuracy')>=0.999):\n",
        "      print(\"\\nAccuracy is over 99.9%\")\n",
        "      self.model.stop_training = True\n",
        "\n",
        "callbacks = myCallback()"
      ],
      "execution_count": 18,
      "outputs": []
    },
    {
      "cell_type": "markdown",
      "metadata": {
        "id": "QiQyvKYlMNUy"
      },
      "source": [
        "# My CNN Model"
      ]
    },
    {
      "cell_type": "code",
      "metadata": {
        "id": "ZZpSK9WkoRZr",
        "colab": {
          "base_uri": "https://localhost:8080/"
        },
        "outputId": "ababdf58-ddb6-42ca-a8ce-9de2d0b1e8b8"
      },
      "source": [
        "model = tf.keras.models.Sequential([\n",
        "  tf.keras.layers.Conv2D(64, (3,3), activation='relu', input_shape=(28,28,1)),\n",
        "  tf.keras.layers.MaxPooling2D(2,2),\n",
        "  tf.keras.layers.Dropout(0.1),\n",
        "  tf.keras.layers.Conv2D(64, (3,3), activation='relu'),\n",
        "  tf.keras.layers.MaxPooling2D(2,2),\n",
        "  tf.keras.layers.Dropout(0.1),\n",
        "  tf.keras.layers.Flatten(),\n",
        "  tf.keras.layers.Dense(128, activation='relu'),\n",
        "  tf.keras.layers.Dropout(0.1),\n",
        "  tf.keras.layers.Dense(10, activation='softmax')\n",
        "])\n",
        "model.compile(optimizer='adam', loss='sparse_categorical_crossentropy', metrics = ['accuracy'])\n",
        "model.summary()"
      ],
      "execution_count": 19,
      "outputs": [
        {
          "output_type": "stream",
          "text": [
            "Model: \"sequential_1\"\n",
            "_________________________________________________________________\n",
            "Layer (type)                 Output Shape              Param #   \n",
            "=================================================================\n",
            "conv2d_2 (Conv2D)            (None, 26, 26, 64)        640       \n",
            "_________________________________________________________________\n",
            "max_pooling2d_2 (MaxPooling2 (None, 13, 13, 64)        0         \n",
            "_________________________________________________________________\n",
            "dropout_3 (Dropout)          (None, 13, 13, 64)        0         \n",
            "_________________________________________________________________\n",
            "conv2d_3 (Conv2D)            (None, 11, 11, 64)        36928     \n",
            "_________________________________________________________________\n",
            "max_pooling2d_3 (MaxPooling2 (None, 5, 5, 64)          0         \n",
            "_________________________________________________________________\n",
            "dropout_4 (Dropout)          (None, 5, 5, 64)          0         \n",
            "_________________________________________________________________\n",
            "flatten_1 (Flatten)          (None, 1600)              0         \n",
            "_________________________________________________________________\n",
            "dense_2 (Dense)              (None, 128)               204928    \n",
            "_________________________________________________________________\n",
            "dropout_5 (Dropout)          (None, 128)               0         \n",
            "_________________________________________________________________\n",
            "dense_3 (Dense)              (None, 10)                1290      \n",
            "=================================================================\n",
            "Total params: 243,786\n",
            "Trainable params: 243,786\n",
            "Non-trainable params: 0\n",
            "_________________________________________________________________\n"
          ],
          "name": "stdout"
        }
      ]
    },
    {
      "cell_type": "markdown",
      "metadata": {
        "id": "Zgpg3n3WH0xR"
      },
      "source": [
        "## Data Augmentation"
      ]
    },
    {
      "cell_type": "code",
      "metadata": {
        "id": "jca7vefbHzIQ"
      },
      "source": [
        "from keras.preprocessing.image import ImageDataGenerator\n",
        "\n",
        "datag = ImageDataGenerator(\n",
        "    rotation_range=10,\n",
        "    width_shift_range=0.1,\n",
        "    height_shift_range=0.1,\n",
        "    zoom_range=0.3\n",
        "    )\n",
        "\n",
        "datag.fit(x_train)"
      ],
      "execution_count": 20,
      "outputs": []
    },
    {
      "cell_type": "markdown",
      "metadata": {
        "id": "PxwkEztzH8Ad"
      },
      "source": [
        "## Training"
      ]
    },
    {
      "cell_type": "code",
      "metadata": {
        "id": "xYPiIMkUokMy",
        "colab": {
          "base_uri": "https://localhost:8080/"
        },
        "outputId": "2fc5de68-8f51-4252-a721-7e5ac3d3e5bb"
      },
      "source": [
        "history = model.fit(datag.flow(x_train, y_train, batch_size=100), epochs=32, callbacks=[callbacks])"
      ],
      "execution_count": 21,
      "outputs": [
        {
          "output_type": "stream",
          "text": [
            "Epoch 1/32\n",
            "420/420 [==============================] - 11s 26ms/step - loss: 0.9744 - accuracy: 0.6780\n",
            "Epoch 2/32\n",
            "420/420 [==============================] - 11s 25ms/step - loss: 0.2211 - accuracy: 0.9320\n",
            "Epoch 3/32\n",
            "420/420 [==============================] - 11s 25ms/step - loss: 0.1419 - accuracy: 0.9559\n",
            "Epoch 4/32\n",
            "420/420 [==============================] - 11s 25ms/step - loss: 0.1266 - accuracy: 0.9625\n",
            "Epoch 5/32\n",
            "420/420 [==============================] - 10s 25ms/step - loss: 0.1102 - accuracy: 0.9643\n",
            "Epoch 6/32\n",
            "420/420 [==============================] - 11s 26ms/step - loss: 0.0943 - accuracy: 0.9707\n",
            "Epoch 7/32\n",
            "420/420 [==============================] - 11s 25ms/step - loss: 0.0902 - accuracy: 0.9720\n",
            "Epoch 8/32\n",
            "420/420 [==============================] - 10s 25ms/step - loss: 0.0824 - accuracy: 0.9738\n",
            "Epoch 9/32\n",
            "420/420 [==============================] - 11s 25ms/step - loss: 0.0775 - accuracy: 0.9760\n",
            "Epoch 10/32\n",
            "420/420 [==============================] - 11s 25ms/step - loss: 0.0745 - accuracy: 0.9777\n",
            "Epoch 11/32\n",
            "420/420 [==============================] - 10s 25ms/step - loss: 0.0622 - accuracy: 0.9810\n",
            "Epoch 12/32\n",
            "420/420 [==============================] - 11s 26ms/step - loss: 0.0617 - accuracy: 0.9811\n",
            "Epoch 13/32\n",
            "420/420 [==============================] - 11s 25ms/step - loss: 0.0601 - accuracy: 0.9814\n",
            "Epoch 14/32\n",
            "420/420 [==============================] - 11s 25ms/step - loss: 0.0572 - accuracy: 0.9820\n",
            "Epoch 15/32\n",
            "420/420 [==============================] - 10s 25ms/step - loss: 0.0574 - accuracy: 0.9818\n",
            "Epoch 16/32\n",
            "420/420 [==============================] - 10s 25ms/step - loss: 0.0584 - accuracy: 0.9821\n",
            "Epoch 17/32\n",
            "420/420 [==============================] - 10s 25ms/step - loss: 0.0548 - accuracy: 0.9833\n",
            "Epoch 18/32\n",
            "420/420 [==============================] - 10s 25ms/step - loss: 0.0511 - accuracy: 0.9838\n",
            "Epoch 19/32\n",
            "420/420 [==============================] - 11s 25ms/step - loss: 0.0513 - accuracy: 0.9851\n",
            "Epoch 20/32\n",
            "420/420 [==============================] - 11s 25ms/step - loss: 0.0509 - accuracy: 0.9845\n",
            "Epoch 21/32\n",
            "420/420 [==============================] - 11s 25ms/step - loss: 0.0496 - accuracy: 0.9840\n",
            "Epoch 22/32\n",
            "420/420 [==============================] - 11s 25ms/step - loss: 0.0463 - accuracy: 0.9858\n",
            "Epoch 23/32\n",
            "420/420 [==============================] - 11s 25ms/step - loss: 0.0452 - accuracy: 0.9861\n",
            "Epoch 24/32\n",
            "420/420 [==============================] - 10s 25ms/step - loss: 0.0501 - accuracy: 0.9845\n",
            "Epoch 25/32\n",
            "420/420 [==============================] - 10s 25ms/step - loss: 0.0430 - accuracy: 0.9863\n",
            "Epoch 26/32\n",
            "420/420 [==============================] - 11s 25ms/step - loss: 0.0441 - accuracy: 0.9865\n",
            "Epoch 27/32\n",
            "420/420 [==============================] - 11s 26ms/step - loss: 0.0456 - accuracy: 0.9849\n",
            "Epoch 28/32\n",
            "420/420 [==============================] - 11s 25ms/step - loss: 0.0452 - accuracy: 0.9857\n",
            "Epoch 29/32\n",
            "420/420 [==============================] - 11s 25ms/step - loss: 0.0415 - accuracy: 0.9872\n",
            "Epoch 30/32\n",
            "420/420 [==============================] - 11s 25ms/step - loss: 0.0436 - accuracy: 0.9862\n",
            "Epoch 31/32\n",
            "420/420 [==============================] - 10s 25ms/step - loss: 0.0398 - accuracy: 0.9873\n",
            "Epoch 32/32\n",
            "420/420 [==============================] - 11s 25ms/step - loss: 0.0421 - accuracy: 0.9865\n"
          ],
          "name": "stdout"
        }
      ]
    },
    {
      "cell_type": "code",
      "metadata": {
        "id": "A3sLvs2StNum",
        "colab": {
          "base_uri": "https://localhost:8080/",
          "height": 282
        },
        "outputId": "d58544a5-413a-424c-d649-dc6774cd041c"
      },
      "source": [
        "plt.plot(history.history['accuracy'])"
      ],
      "execution_count": 22,
      "outputs": [
        {
          "output_type": "execute_result",
          "data": {
            "text/plain": [
              "[<matplotlib.lines.Line2D at 0x7f4503a01450>]"
            ]
          },
          "metadata": {
            "tags": []
          },
          "execution_count": 22
        },
        {
          "output_type": "display_data",
          "data": {
            "image/png": "[encoded data removed]",
            "text/plain": [
              "<Figure size 432x288 with 1 Axes>"
            ]
          },
          "metadata": {
            "tags": [],
            "needs_background": "light"
          }
        }
      ]
    },
    {
      "cell_type": "markdown",
      "metadata": {
        "id": "an8cmdY64Odk"
      },
      "source": [
        "## Prediction"
      ]
    },
    {
      "cell_type": "code",
      "metadata": {
        "id": "JeVcnFb5qN4l"
      },
      "source": [
        "results = model.predict(test)\n",
        "\n",
        "# select the indix with the maximum probability\n",
        "results = np.argmax(results,axis = 1)\n",
        "\n",
        "results = pd.Series(results,name=\"Label\")\n",
        "submission = pd.concat([pd.Series(range(1,28001),name = \"ImageId\"),results],axis = 1)\n",
        "\n",
        "submission.to_csv(\"mnist_kaggle.csv\",index=False)"
      ],
      "execution_count": 23,
      "outputs": []
    },
    {
      "cell_type": "code",
      "metadata": {
        "id": "9UDUOPWET-3M",
        "colab": {
          "base_uri": "https://localhost:8080/",
          "height": 17
        },
        "outputId": "5eb99deb-c24e-4299-b95d-7a7f9ebbbfd1"
      },
      "source": [
        "files.download('mnist_kaggle.csv')"
      ],
      "execution_count": 24,
      "outputs": [
        {
          "output_type": "display_data",
          "data": {
            "application/javascript": [
              "\n",
              "    async function download(id, filename, size) {\n",
              "      if (!google.colab.kernel.accessAllowed) {\n",
              "        return;\n",
              "      }\n",
              "      const div = document.createElement('div');\n",
              "      const label = document.createElement('label');\n",
              "      label.textContent = `Downloading \"${filename}\": `;\n",
              "      div.appendChild(label);\n",
              "      const progress = document.createElement('progress');\n",
              "      progress.max = size;\n",
              "      div.appendChild(progress);\n",
              "      document.body.appendChild(div);\n",
              "\n",
              "      const buffers = [];\n",
              "      let downloaded = 0;\n",
              "\n",
              "      const channel = await google.colab.kernel.comms.open(id);\n",
              "      // Send a message to notify the kernel that we're ready.\n",
              "      channel.send({})\n",
              "\n",
              "      for await (const message of channel.messages) {\n",
              "        // Send a message to notify the kernel that we're ready.\n",
              "        channel.send({})\n",
              "        if (message.buffers) {\n",
              "          for (const buffer of message.buffers) {\n",
              "            buffers.push(buffer);\n",
              "            downloaded += buffer.byteLength;\n",
              "            progress.value = downloaded;\n",
              "          }\n",
              "        }\n",
              "      }\n",
              "      const blob = new Blob(buffers, {type: 'application/binary'});\n",
              "      const a = document.createElement('a');\n",
              "      a.href = window.URL.createObjectURL(blob);\n",
              "      a.download = filename;\n",
              "      div.appendChild(a);\n",
              "      a.click();\n",
              "      div.remove();\n",
              "    }\n",
              "  "
            ],
            "text/plain": [
              "<IPython.core.display.Javascript object>"
            ]
          },
          "metadata": {
            "tags": []
          }
        },
        {
          "output_type": "display_data",
          "data": {
            "application/javascript": [
              "download(\"download_c9c0a899-5f05-47cf-9d4e-2bd76d2cf8b8\", \"mnist_kaggle.csv\", 212908)"
            ],
            "text/plain": [
              "<IPython.core.display.Javascript object>"
            ]
          },
          "metadata": {
            "tags": []
          }
        }
      ]
    },
    {
      "cell_type": "code",
      "metadata": {
        "id": "RDGaIZLXzCgX"
      },
      "source": [
        "# 0.9865 in training\n",
        "# got a 0.99317 score on kaggle"
      ],
      "execution_count": 25,
      "outputs": []
    },
    {
      "cell_type": "markdown",
      "metadata": {
        "id": "3tIe8yj72VXS"
      },
      "source": [
        "# LeNet-5 model"
      ]
    },
    {
      "cell_type": "markdown",
      "metadata": {
        "id": "L9Ih-HmW2ebj"
      },
      "source": [
        "LeNet-5 is a neural network from a 1998 article, I adapted it to this model  \r\n",
        "Changed average pooling to max pooling, format of input in the original paper is longer and added dropout"
      ]
    },
    {
      "cell_type": "code",
      "metadata": {
        "colab": {
          "base_uri": "https://localhost:8080/"
        },
        "id": "-WNNDdv52chB",
        "outputId": "64d361e3-2973-4902-8b59-408d4fd24108"
      },
      "source": [
        "Le5Net_model = tf.keras.models.Sequential([\n",
        "  tf.keras.layers.Conv2D(6, (5,5), activation='relu', input_shape=(28,28,1)),\n",
        "  tf.keras.layers.MaxPooling2D(2,2),\n",
        "  tf.keras.layers.Dropout(0.1),\n",
        "  tf.keras.layers.Conv2D(16, (5,5), activation='relu'),\n",
        "  tf.keras.layers.MaxPooling2D(2,2),\n",
        "  tf.keras.layers.Dropout(0.1),\n",
        "  tf.keras.layers.Flatten(),\n",
        "  tf.keras.layers.Dense(120, activation='relu'),\n",
        "  tf.keras.layers.Dropout(0.1),\n",
        "  tf.keras.layers.Dense(10, activation='softmax')\n",
        "])\n",
        "Le5Net_model.compile(optimizer='adam', loss='sparse_categorical_crossentropy', metrics = ['accuracy'])\n",
        "Le5Net_model.summary()"
      ],
      "execution_count": 26,
      "outputs": [
        {
          "output_type": "stream",
          "text": [
            "Model: \"sequential_2\"\n",
            "_________________________________________________________________\n",
            "Layer (type)                 Output Shape              Param #   \n",
            "=================================================================\n",
            "conv2d_4 (Conv2D)            (None, 24, 24, 6)         156       \n",
            "_________________________________________________________________\n",
            "max_pooling2d_4 (MaxPooling2 (None, 12, 12, 6)         0         \n",
            "_________________________________________________________________\n",
            "dropout_6 (Dropout)          (None, 12, 12, 6)         0         \n",
            "_________________________________________________________________\n",
            "conv2d_5 (Conv2D)            (None, 8, 8, 16)          2416      \n",
            "_________________________________________________________________\n",
            "max_pooling2d_5 (MaxPooling2 (None, 4, 4, 16)          0         \n",
            "_________________________________________________________________\n",
            "dropout_7 (Dropout)          (None, 4, 4, 16)          0         \n",
            "_________________________________________________________________\n",
            "flatten_2 (Flatten)          (None, 256)               0         \n",
            "_________________________________________________________________\n",
            "dense_4 (Dense)              (None, 120)               30840     \n",
            "_________________________________________________________________\n",
            "dropout_8 (Dropout)          (None, 120)               0         \n",
            "_________________________________________________________________\n",
            "dense_5 (Dense)              (None, 10)                1210      \n",
            "=================================================================\n",
            "Total params: 34,622\n",
            "Trainable params: 34,622\n",
            "Non-trainable params: 0\n",
            "_________________________________________________________________\n"
          ],
          "name": "stdout"
        }
      ]
    },
    {
      "cell_type": "markdown",
      "metadata": {
        "id": "kHiCaSSI2chC"
      },
      "source": [
        "## Data Augmentation"
      ]
    },
    {
      "cell_type": "code",
      "metadata": {
        "id": "YKJXHpL62chC"
      },
      "source": [
        "#from keras.preprocessing.image import ImageDataGenerator\n",
        "\n",
        "datag = ImageDataGenerator(\n",
        "    rotation_range=10,\n",
        "    width_shift_range=0.1,\n",
        "    height_shift_range=0.1,\n",
        "    zoom_range=0.3\n",
        "    )\n",
        "\n",
        "datag.fit(x_train)"
      ],
      "execution_count": 27,
      "outputs": []
    },
    {
      "cell_type": "markdown",
      "metadata": {
        "id": "euxitWa_2chC"
      },
      "source": [
        "## Training"
      ]
    },
    {
      "cell_type": "code",
      "metadata": {
        "colab": {
          "base_uri": "https://localhost:8080/"
        },
        "id": "8hWVsSco2chC",
        "outputId": "8c3d100c-99a9-4deb-9c40-e1642cc92e27"
      },
      "source": [
        "history = Le5Net_model.fit(datag.flow(x_train, y_train, batch_size=100), epochs=32, callbacks=[callbacks])"
      ],
      "execution_count": 28,
      "outputs": [
        {
          "output_type": "stream",
          "text": [
            "Epoch 1/32\n",
            "420/420 [==============================] - 10s 24ms/step - loss: 1.2910 - accuracy: 0.5733\n",
            "Epoch 2/32\n",
            "420/420 [==============================] - 10s 24ms/step - loss: 0.3923 - accuracy: 0.8814\n",
            "Epoch 3/32\n",
            "420/420 [==============================] - 10s 25ms/step - loss: 0.2826 - accuracy: 0.9148\n",
            "Epoch 4/32\n",
            "420/420 [==============================] - 10s 24ms/step - loss: 0.2496 - accuracy: 0.9218\n",
            "Epoch 5/32\n",
            "420/420 [==============================] - 10s 23ms/step - loss: 0.2116 - accuracy: 0.9358\n",
            "Epoch 6/32\n",
            "420/420 [==============================] - 10s 23ms/step - loss: 0.1953 - accuracy: 0.9383\n",
            "Epoch 7/32\n",
            "420/420 [==============================] - 10s 24ms/step - loss: 0.1768 - accuracy: 0.9437\n",
            "Epoch 8/32\n",
            "420/420 [==============================] - 10s 23ms/step - loss: 0.1707 - accuracy: 0.9461\n",
            "Epoch 9/32\n",
            "420/420 [==============================] - 10s 24ms/step - loss: 0.1639 - accuracy: 0.9488\n",
            "Epoch 10/32\n",
            "420/420 [==============================] - 10s 24ms/step - loss: 0.1505 - accuracy: 0.9536\n",
            "Epoch 11/32\n",
            "420/420 [==============================] - 10s 24ms/step - loss: 0.1486 - accuracy: 0.9538\n",
            "Epoch 12/32\n",
            "420/420 [==============================] - 10s 24ms/step - loss: 0.1395 - accuracy: 0.9563\n",
            "Epoch 13/32\n",
            "420/420 [==============================] - 10s 23ms/step - loss: 0.1323 - accuracy: 0.9578\n",
            "Epoch 14/32\n",
            "420/420 [==============================] - 10s 23ms/step - loss: 0.1275 - accuracy: 0.9592\n",
            "Epoch 15/32\n",
            "420/420 [==============================] - 10s 24ms/step - loss: 0.1310 - accuracy: 0.9593\n",
            "Epoch 16/32\n",
            "420/420 [==============================] - 10s 24ms/step - loss: 0.1205 - accuracy: 0.9619\n",
            "Epoch 17/32\n",
            "420/420 [==============================] - 10s 24ms/step - loss: 0.1184 - accuracy: 0.9632\n",
            "Epoch 18/32\n",
            "420/420 [==============================] - 10s 24ms/step - loss: 0.1097 - accuracy: 0.9670\n",
            "Epoch 19/32\n",
            "420/420 [==============================] - 10s 24ms/step - loss: 0.1098 - accuracy: 0.9661\n",
            "Epoch 20/32\n",
            "420/420 [==============================] - 10s 24ms/step - loss: 0.1082 - accuracy: 0.9657\n",
            "Epoch 21/32\n",
            "420/420 [==============================] - 10s 24ms/step - loss: 0.1081 - accuracy: 0.9672\n",
            "Epoch 22/32\n",
            "420/420 [==============================] - 10s 24ms/step - loss: 0.1063 - accuracy: 0.9666\n",
            "Epoch 23/32\n",
            "420/420 [==============================] - 10s 24ms/step - loss: 0.1086 - accuracy: 0.9671\n",
            "Epoch 24/32\n",
            "420/420 [==============================] - 10s 24ms/step - loss: 0.1028 - accuracy: 0.9676\n",
            "Epoch 25/32\n",
            "420/420 [==============================] - 10s 23ms/step - loss: 0.0966 - accuracy: 0.9690\n",
            "Epoch 26/32\n",
            "420/420 [==============================] - 10s 24ms/step - loss: 0.1024 - accuracy: 0.9704\n",
            "Epoch 27/32\n",
            "420/420 [==============================] - 10s 24ms/step - loss: 0.0945 - accuracy: 0.9705\n",
            "Epoch 28/32\n",
            "420/420 [==============================] - 10s 24ms/step - loss: 0.0934 - accuracy: 0.9707\n",
            "Epoch 29/32\n",
            "420/420 [==============================] - 10s 24ms/step - loss: 0.0962 - accuracy: 0.9703\n",
            "Epoch 30/32\n",
            "420/420 [==============================] - 10s 24ms/step - loss: 0.0881 - accuracy: 0.9729\n",
            "Epoch 31/32\n",
            "420/420 [==============================] - 10s 23ms/step - loss: 0.0868 - accuracy: 0.9735\n",
            "Epoch 32/32\n",
            "420/420 [==============================] - 10s 24ms/step - loss: 0.0972 - accuracy: 0.9703\n"
          ],
          "name": "stdout"
        }
      ]
    },
    {
      "cell_type": "code",
      "metadata": {
        "colab": {
          "base_uri": "https://localhost:8080/",
          "height": 282
        },
        "id": "ArhOdKVq2chD",
        "outputId": "d7670f60-0877-4d2c-a8ed-63ae75967830"
      },
      "source": [
        "plt.plot(history.history['accuracy'])"
      ],
      "execution_count": 29,
      "outputs": [
        {
          "output_type": "execute_result",
          "data": {
            "text/plain": [
              "[<matplotlib.lines.Line2D at 0x7f4500ebbf90>]"
            ]
          },
          "metadata": {
            "tags": []
          },
          "execution_count": 29
        },
        {
          "output_type": "display_data",
          "data": {
            "image/png": "[encoded data removed]",
            "text/plain": [
              "<Figure size 432x288 with 1 Axes>"
            ]
          },
          "metadata": {
            "tags": [],
            "needs_background": "light"
          }
        }
      ]
    },
    {
      "cell_type": "markdown",
      "metadata": {
        "id": "80HPSfJo6OdA"
      },
      "source": [
        "## Prediction"
      ]
    },
    {
      "cell_type": "code",
      "metadata": {
        "id": "m1fg1wXS4TvU"
      },
      "source": [
        "results = Le5Net_model.predict(test)\n",
        "\n",
        "# select the indix with the maximum probability\n",
        "results = np.argmax(results,axis = 1)\n",
        "\n",
        "results = pd.Series(results,name=\"Label\")\n",
        "submission = pd.concat([pd.Series(range(1,28001),name = \"ImageId\"),results],axis = 1)\n",
        "\n",
        "submission.to_csv(\"lenet5_mnist_kaggle.csv\",index=False)"
      ],
      "execution_count": 30,
      "outputs": []
    },
    {
      "cell_type": "code",
      "metadata": {
        "colab": {
          "base_uri": "https://localhost:8080/",
          "height": 17
        },
        "id": "re8m4S1A4TvV",
        "outputId": "8fd00363-5dc3-4ef0-de54-ab336f3bf253"
      },
      "source": [
        "files.download('lenet5_mnist_kaggle.csv')"
      ],
      "execution_count": 31,
      "outputs": [
        {
          "output_type": "display_data",
          "data": {
            "application/javascript": [
              "\n",
              "    async function download(id, filename, size) {\n",
              "      if (!google.colab.kernel.accessAllowed) {\n",
              "        return;\n",
              "      }\n",
              "      const div = document.createElement('div');\n",
              "      const label = document.createElement('label');\n",
              "      label.textContent = `Downloading \"${filename}\": `;\n",
              "      div.appendChild(label);\n",
              "      const progress = document.createElement('progress');\n",
              "      progress.max = size;\n",
              "      div.appendChild(progress);\n",
              "      document.body.appendChild(div);\n",
              "\n",
              "      const buffers = [];\n",
              "      let downloaded = 0;\n",
              "\n",
              "      const channel = await google.colab.kernel.comms.open(id);\n",
              "      // Send a message to notify the kernel that we're ready.\n",
              "      channel.send({})\n",
              "\n",
              "      for await (const message of channel.messages) {\n",
              "        // Send a message to notify the kernel that we're ready.\n",
              "        channel.send({})\n",
              "        if (message.buffers) {\n",
              "          for (const buffer of message.buffers) {\n",
              "            buffers.push(buffer);\n",
              "            downloaded += buffer.byteLength;\n",
              "            progress.value = downloaded;\n",
              "          }\n",
              "        }\n",
              "      }\n",
              "      const blob = new Blob(buffers, {type: 'application/binary'});\n",
              "      const a = document.createElement('a');\n",
              "      a.href = window.URL.createObjectURL(blob);\n",
              "      a.download = filename;\n",
              "      div.appendChild(a);\n",
              "      a.click();\n",
              "      div.remove();\n",
              "    }\n",
              "  "
            ],
            "text/plain": [
              "<IPython.core.display.Javascript object>"
            ]
          },
          "metadata": {
            "tags": []
          }
        },
        {
          "output_type": "display_data",
          "data": {
            "application/javascript": [
              "download(\"download_93ec1cd2-c0eb-42da-b1ca-0e505bf7aca1\", \"lenet5_mnist_kaggle.csv\", 212908)"
            ],
            "text/plain": [
              "<IPython.core.display.Javascript object>"
            ]
          },
          "metadata": {
            "tags": []
          }
        }
      ]
    },
    {
      "cell_type": "code",
      "metadata": {
        "id": "KbYrlgAJ4TvV"
      },
      "source": [
        "# 0.9703 in training\n",
        "# got a 0.99007 score on kaggle"
      ],
      "execution_count": 32,
      "outputs": []
    }
  ]
}